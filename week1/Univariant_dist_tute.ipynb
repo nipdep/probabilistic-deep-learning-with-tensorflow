{
  "nbformat": 4,
  "nbformat_minor": 0,
  "metadata": {
    "colab": {
      "name": "Univariant dist tute.ipynb",
      "provenance": [],
      "collapsed_sections": [],
      "authorship_tag": "ABX9TyO80xe/dVitsfnn8bhkiMub",
      "include_colab_link": true
    },
    "kernelspec": {
      "name": "python3",
      "display_name": "Python 3"
    },
    "language_info": {
      "name": "python"
    }
  },
  "cells": [
    {
      "cell_type": "markdown",
      "metadata": {
        "id": "view-in-github",
        "colab_type": "text"
      },
      "source": [
        "<a href=\"https://colab.research.google.com/github/nipdep/probabilistic-deep-learning-with-tensorflow/blob/main/week1/Univariant_dist_tute.ipynb\" target=\"_parent\"><img src=\"https://colab.research.google.com/assets/colab-badge.svg\" alt=\"Open In Colab\"/></a>"
      ]
    },
    {
      "cell_type": "code",
      "metadata": {
        "colab": {
          "base_uri": "https://localhost:8080/"
        },
        "id": "Psnu0N3Neht1",
        "outputId": "419664a0-cbf1-4948-e7bb-8b4ef72f2b77"
      },
      "source": [
        "import numpy as np\n",
        "import tensorflow as tf \n",
        "import tensorflow_probability as tfp\n",
        "tfd = tfp.distributions\n",
        "\n",
        "print(tf.__version__)\n",
        "print(tfp.__version__)"
      ],
      "execution_count": 21,
      "outputs": [
        {
          "output_type": "stream",
          "text": [
            "2.4.1\n",
            "0.12.1\n"
          ],
          "name": "stdout"
        }
      ]
    },
    {
      "cell_type": "code",
      "metadata": {
        "colab": {
          "base_uri": "https://localhost:8080/"
        },
        "id": "HnTLpGeGeuPp",
        "outputId": "9eb01d04-8556-4984-8be0-3952e6f5c47a"
      },
      "source": [
        "normal_dist = tfd.Normal(loc=0., scale=1.)\n",
        "normal_dist"
      ],
      "execution_count": 22,
      "outputs": [
        {
          "output_type": "execute_result",
          "data": {
            "text/plain": [
              "<tfp.distributions.Normal 'Normal' batch_shape=[] event_shape=[] dtype=float32>"
            ]
          },
          "metadata": {
            "tags": []
          },
          "execution_count": 22
        }
      ]
    },
    {
      "cell_type": "code",
      "metadata": {
        "colab": {
          "base_uri": "https://localhost:8080/"
        },
        "id": "NEWq_bBUf3sn",
        "outputId": "17e377d0-ab8b-4657-d072-b5bfcdfa18c1"
      },
      "source": [
        "normal_dist.sample(2)"
      ],
      "execution_count": 23,
      "outputs": [
        {
          "output_type": "execute_result",
          "data": {
            "text/plain": [
              "<tf.Tensor: shape=(2,), dtype=float32, numpy=array([-0.5760273 , -0.07083781], dtype=float32)>"
            ]
          },
          "metadata": {
            "tags": []
          },
          "execution_count": 23
        }
      ]
    },
    {
      "cell_type": "code",
      "metadata": {
        "colab": {
          "base_uri": "https://localhost:8080/"
        },
        "id": "TkDWIMRBf8wC",
        "outputId": "06e75a5a-feca-441e-f838-e38bb5dbae2f"
      },
      "source": [
        "print(normal_dist.prob(1))\n",
        "print(normal_dist.log_prob(1))\n",
        "print(np.log(normal_dist.prob(1)))"
      ],
      "execution_count": 24,
      "outputs": [
        {
          "output_type": "stream",
          "text": [
            "tf.Tensor(0.24197073, shape=(), dtype=float32)\n",
            "tf.Tensor(-1.4189385, shape=(), dtype=float32)\n",
            "-1.4189385\n"
          ],
          "name": "stdout"
        }
      ]
    },
    {
      "cell_type": "code",
      "metadata": {
        "id": "d9gP_9kHgIUe"
      },
      "source": [
        "import matplotlib.pyplot as plt\n",
        "% matplotlib inline"
      ],
      "execution_count": 25,
      "outputs": []
    },
    {
      "cell_type": "code",
      "metadata": {
        "colab": {
          "base_uri": "https://localhost:8080/",
          "height": 634
        },
        "id": "YgQUpOlEhG-R",
        "outputId": "f3d0e3b2-d526-4eac-8527-4c7d17323223"
      },
      "source": [
        "plt.hist(normal_dist.sample(1000),bins=50,density=True)"
      ],
      "execution_count": 26,
      "outputs": [
        {
          "output_type": "execute_result",
          "data": {
            "text/plain": [
              "(array([0.01402372, 0.01402374, 0.        , 0.01402372, 0.        ,\n",
              "        0.02804748, 0.        , 0.01402372, 0.02103559, 0.0771305 ,\n",
              "        0.10517795, 0.11218972, 0.154261  , 0.1823083 , 0.25242709,\n",
              "        0.36461676, 0.32955745, 0.28047455, 0.29449815, 0.31553373,\n",
              "        0.3996761 , 0.37162862, 0.38565238, 0.35059304, 0.42071169,\n",
              "        0.32955745, 0.26645071, 0.27346268, 0.37864048, 0.24541512,\n",
              "        0.18230845, 0.25242688, 0.11920168, 0.06310672, 0.12621355,\n",
              "        0.08414236, 0.03505929, 0.049083  , 0.02103561, 0.00701186,\n",
              "        0.03505929, 0.02103561, 0.        , 0.        , 0.00701187,\n",
              "        0.        , 0.00701186, 0.        , 0.        , 0.00701186]),\n",
              " array([-3.2108493 , -3.0682337 , -2.9256184 , -2.7830029 , -2.6403873 ,\n",
              "        -2.4977717 , -2.3551564 , -2.2125409 , -2.0699253 , -1.9273099 ,\n",
              "        -1.7846944 , -1.642079  , -1.4994634 , -1.356848  , -1.2142324 ,\n",
              "        -1.071617  , -0.9290015 , -0.786386  , -0.6437706 , -0.5011551 ,\n",
              "        -0.35853958, -0.2159241 , -0.07330861,  0.06930687,  0.21192236,\n",
              "         0.35453784,  0.49715334,  0.63976884,  0.7823843 ,  0.9249998 ,\n",
              "         1.0676153 ,  1.2102307 ,  1.3528463 ,  1.4954617 ,  1.6380773 ,\n",
              "         1.7806927 ,  1.9233081 ,  2.0659237 ,  2.2085392 ,  2.3511546 ,\n",
              "         2.4937701 ,  2.6363857 ,  2.779001  ,  2.9216166 ,  3.064232  ,\n",
              "         3.2068474 ,  3.349463  ,  3.4920785 ,  3.634694  ,  3.7773094 ,\n",
              "         3.919925  ], dtype=float32),\n",
              " <a list of 50 Patch objects>)"
            ]
          },
          "metadata": {
            "tags": []
          },
          "execution_count": 26
        },
        {
          "output_type": "display_data",
          "data": {
            "image/png": "[encoded data removed]",
            "text/plain": [
              "<Figure size 432x288 with 1 Axes>"
            ]
          },
          "metadata": {
            "tags": [],
            "needs_background": "light"
          }
        }
      ]
    },
    {
      "cell_type": "code",
      "metadata": {
        "id": "dVtQ7fQehb1N"
      },
      "source": [
        "bern_dist = tfd.Bernoulli(probs=0.6)"
      ],
      "execution_count": 30,
      "outputs": []
    },
    {
      "cell_type": "code",
      "metadata": {
        "colab": {
          "base_uri": "https://localhost:8080/"
        },
        "id": "pFUMLxCjjugX",
        "outputId": "46df6c21-a91e-4494-f5fb-15f161c14b3e"
      },
      "source": [
        "bern_dist.sample(2)"
      ],
      "execution_count": 32,
      "outputs": [
        {
          "output_type": "execute_result",
          "data": {
            "text/plain": [
              "<tf.Tensor: shape=(2,), dtype=int32, numpy=array([0, 0], dtype=int32)>"
            ]
          },
          "metadata": {
            "tags": []
          },
          "execution_count": 32
        }
      ]
    },
    {
      "cell_type": "code",
      "metadata": {
        "colab": {
          "base_uri": "https://localhost:8080/"
        },
        "id": "PM-jdPXykNJQ",
        "outputId": "0fcc9218-ba52-4992-cc55-e28ee73020a9"
      },
      "source": [
        "bern_dist.sample(10)"
      ],
      "execution_count": 33,
      "outputs": [
        {
          "output_type": "execute_result",
          "data": {
            "text/plain": [
              "<tf.Tensor: shape=(10,), dtype=int32, numpy=array([0, 0, 0, 0, 0, 1, 1, 1, 1, 1], dtype=int32)>"
            ]
          },
          "metadata": {
            "tags": []
          },
          "execution_count": 33
        }
      ]
    },
    {
      "cell_type": "code",
      "metadata": {
        "id": "0IuVrgN9kg0Q"
      },
      "source": [
        "bern_dist1 = tfd.Bernoulli(logits=0.3)"
      ],
      "execution_count": 38,
      "outputs": []
    },
    {
      "cell_type": "code",
      "metadata": {
        "colab": {
          "base_uri": "https://localhost:8080/"
        },
        "id": "GdCqBTLklPZw",
        "outputId": "d6ba8797-2de0-4dab-eaa0-58cbe3b01dab"
      },
      "source": [
        "print(bern_dist1.prob(1))\n",
        "#print(bern_dist1.logits())\n",
        "print(bern_dist1.log_prob(1))"
      ],
      "execution_count": 41,
      "outputs": [
        {
          "output_type": "stream",
          "text": [
            "tf.Tensor(0.5744425, shape=(), dtype=float32)\n",
            "tf.Tensor(-0.55435526, shape=(), dtype=float32)\n"
          ],
          "name": "stdout"
        }
      ]
    },
    {
      "cell_type": "code",
      "metadata": {
        "colab": {
          "base_uri": "https://localhost:8080/"
        },
        "id": "VvPw9-plle0u",
        "outputId": "6fe3ce39-430b-4885-a772-5af204bdc438"
      },
      "source": [
        "print(bern_dist.prob(0))\n",
        "print(bern_dist.prob(1))\n",
        "print(bern_dist.prob(0.4))"
      ],
      "execution_count": 43,
      "outputs": [
        {
          "output_type": "stream",
          "text": [
            "tf.Tensor(0.39999998, shape=(), dtype=float32)\n",
            "tf.Tensor(0.6, shape=(), dtype=float32)\n",
            "tf.Tensor(0.4704316, shape=(), dtype=float32)\n"
          ],
          "name": "stdout"
        }
      ]
    },
    {
      "cell_type": "code",
      "metadata": {
        "colab": {
          "base_uri": "https://localhost:8080/"
        },
        "id": "vPMhxSCClxae",
        "outputId": "76196b44-41da-42a1-8711-d445f46f1941"
      },
      "source": [
        "print(np.power(0.6,0.4)*np.power(0.4,0.6))"
      ],
      "execution_count": 45,
      "outputs": [
        {
          "output_type": "stream",
          "text": [
            "0.47043160900986947\n"
          ],
          "name": "stdout"
        }
      ]
    },
    {
      "cell_type": "code",
      "metadata": {
        "id": "BAQ0V-ZGnx-2"
      },
      "source": [
        "exp_dist = tfd.Exponential(2)"
      ],
      "execution_count": 46,
      "outputs": []
    },
    {
      "cell_type": "code",
      "metadata": {
        "id": "F2OZd5WqqBjZ"
      },
      "source": [
        ""
      ],
      "execution_count": null,
      "outputs": []
    }
  ]
}