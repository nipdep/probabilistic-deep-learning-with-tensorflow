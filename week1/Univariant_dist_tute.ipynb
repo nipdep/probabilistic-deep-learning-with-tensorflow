{
  "nbformat": 4,
  "nbformat_minor": 0,
  "metadata": {
    "colab": {
      "name": "Univariant dist tute.ipynb",
      "provenance": [],
      "authorship_tag": "ABX9TyMaJGiPZChuJ+sW69ED+muy",
      "include_colab_link": true
    },
    "kernelspec": {
      "name": "python3",
      "display_name": "Python 3"
    },
    "language_info": {
      "name": "python"
    }
  },
  "cells": [
    {
      "cell_type": "markdown",
      "metadata": {
        "id": "view-in-github",
        "colab_type": "text"
      },
      "source": [
        "<a href=\"https://colab.research.google.com/github/nipdep/probabilistic-deep-learning-with-tensorflow/blob/main/week1/Univariant_dist_tute.ipynb\" target=\"_parent\"><img src=\"https://colab.research.google.com/assets/colab-badge.svg\" alt=\"Open In Colab\"/></a>"
      ]
    },
    {
      "cell_type": "code",
      "metadata": {
        "colab": {
          "base_uri": "https://localhost:8080/"
        },
        "id": "Psnu0N3Neht1",
        "outputId": "44f2f4ca-de3e-4abf-d902-e085f9b7b16c"
      },
      "source": [
        "import numpy as np\n",
        "import tensorflow as tf \n",
        "import tensorflow_probability as tfp\n",
        "tfd = tfp.distributions\n",
        "\n",
        "print(tf.__version__)\n",
        "print(tfp.__version__)"
      ],
      "execution_count": null,
      "outputs": [
        {
          "output_type": "stream",
          "text": [
            "2.4.1\n",
            "0.12.1\n"
          ],
          "name": "stdout"
        }
      ]
    },
    {
      "cell_type": "code",
      "metadata": {
        "colab": {
          "base_uri": "https://localhost:8080/"
        },
        "id": "HnTLpGeGeuPp",
        "outputId": "951f6ac0-4108-45d5-bd5c-8bb7b6d4f963"
      },
      "source": [
        "normal_dist = tfd.Normal(loc=0., scale=1.)\n",
        "normal_dist"
      ],
      "execution_count": null,
      "outputs": [
        {
          "output_type": "execute_result",
          "data": {
            "text/plain": [
              "<tfp.distributions.Normal 'Normal' batch_shape=[] event_shape=[] dtype=float32>"
            ]
          },
          "metadata": {
            "tags": []
          },
          "execution_count": 7
        }
      ]
    },
    {
      "cell_type": "code",
      "metadata": {
        "colab": {
          "base_uri": "https://localhost:8080/"
        },
        "id": "NEWq_bBUf3sn",
        "outputId": "9e88538c-d3c5-4697-c8b8-f27ffda427e7"
      },
      "source": [
        "normal_dist.sample(2)"
      ],
      "execution_count": null,
      "outputs": [
        {
          "output_type": "execute_result",
          "data": {
            "text/plain": [
              "<tf.Tensor: shape=(2,), dtype=float32, numpy=array([-0.5465202,  0.8590215], dtype=float32)>"
            ]
          },
          "metadata": {
            "tags": []
          },
          "execution_count": 9
        }
      ]
    },
    {
      "cell_type": "code",
      "metadata": {
        "colab": {
          "base_uri": "https://localhost:8080/"
        },
        "id": "TkDWIMRBf8wC",
        "outputId": "cf8e3630-15c9-4ca2-b45a-6773eae48348"
      },
      "source": [
        "print(normal_dist.prob(1))\n",
        "print(normal_dist.log_prob(1))\n",
        "print(np.log(normal_dist.prob(1)))"
      ],
      "execution_count": null,
      "outputs": [
        {
          "output_type": "stream",
          "text": [
            "tf.Tensor(0.24197073, shape=(), dtype=float32)\n",
            "tf.Tensor(-1.4189385, shape=(), dtype=float32)\n",
            "-1.4189385\n"
          ],
          "name": "stdout"
        }
      ]
    },
    {
      "cell_type": "code",
      "metadata": {
        "id": "d9gP_9kHgIUe"
      },
      "source": [
        "import matplotlib.pyplot as plt\n",
        "% matplotlib inline"
      ],
      "execution_count": null,
      "outputs": []
    },
    {
      "cell_type": "code",
      "metadata": {
        "colab": {
          "base_uri": "https://localhost:8080/",
          "height": 634
        },
        "id": "YgQUpOlEhG-R",
        "outputId": "58e1845e-3547-42e2-d934-b471efd96f61"
      },
      "source": [
        "plt.hist(normal_dist.sample(1000),bins=50,density=True)"
      ],
      "execution_count": null,
      "outputs": [
        {
          "output_type": "execute_result",
          "data": {
            "text/plain": [
              "(array([0.01623139, 0.        , 0.00811569, 0.00811569, 0.01623139,\n",
              "        0.03246277, 0.02434708, 0.00811569, 0.04057847, 0.05680985,\n",
              "        0.08927263, 0.17042956, 0.14608234, 0.15419818, 0.11361971,\n",
              "        0.26781788, 0.26781801, 0.25970219, 0.29216482, 0.25970219,\n",
              "        0.40578477, 0.38955319, 0.41390042, 0.41390034, 0.48694158,\n",
              "        0.40578467, 0.35709051, 0.29216496, 0.3733219 , 0.32462774,\n",
              "        0.2434708 , 0.25970207, 0.24347092, 0.18666095, 0.2434708 ,\n",
              "        0.17854526, 0.1217354 , 0.08927254, 0.1217354 , 0.07304124,\n",
              "        0.03246277, 0.04869416, 0.06492555, 0.01623139, 0.02434708,\n",
              "        0.04057847, 0.01623139, 0.        , 0.00811569, 0.00811569]),\n",
              " array([-3.037091  , -2.913873  , -2.790655  , -2.6674368 , -2.5442188 ,\n",
              "        -2.4210007 , -2.2977827 , -2.1745646 , -2.0513465 , -1.9281285 ,\n",
              "        -1.8049104 , -1.6816924 , -1.5584743 , -1.4352561 , -1.3120381 ,\n",
              "        -1.18882   , -1.065602  , -0.94238394, -0.8191659 , -0.69594777,\n",
              "        -0.5727297 , -0.44951168, -0.3262936 , -0.20307554, -0.07985748,\n",
              "         0.04336059,  0.16657865,  0.2897967 ,  0.41301477,  0.5362328 ,\n",
              "         0.6594509 ,  0.78266895,  0.90588707,  1.0291051 ,  1.1523231 ,\n",
              "         1.2755412 ,  1.3987592 ,  1.5219773 ,  1.6451955 ,  1.7684135 ,\n",
              "         1.8916316 ,  2.0148497 ,  2.1380677 ,  2.2612858 ,  2.3845038 ,\n",
              "         2.507722  ,  2.63094   ,  2.754158  ,  2.877376  ,  3.0005941 ,\n",
              "         3.1238122 ], dtype=float32),\n",
              " <a list of 50 Patch objects>)"
            ]
          },
          "metadata": {
            "tags": []
          },
          "execution_count": 19
        },
        {
          "output_type": "display_data",
          "data": {
            "image/png": "[encoded data removed]",
            "text/plain": [
              "<Figure size 432x288 with 1 Axes>"
            ]
          },
          "metadata": {
            "tags": [],
            "needs_background": "light"
          }
        }
      ]
    },
    {
      "cell_type": "code",
      "metadata": {
        "id": "dVtQ7fQehb1N"
      },
      "source": [
        ""
      ],
      "execution_count": null,
      "outputs": []
    }
  ]
}